{
 "cells": [
  {
   "cell_type": "markdown",
   "metadata": {},
   "source": [
    "[tutorials](https://gist.github.com/fabian-paul/b14793bea0bf0014c1c1a2e48e24e61f)"
   ]
  },
  {
   "cell_type": "code",
   "execution_count": 1,
   "metadata": {
    "collapsed": false
   },
   "outputs": [
    {
     "name": "stdout",
     "output_type": "stream",
     "text": [
      "Populating the interactive namespace from numpy and matplotlib\n"
     ]
    }
   ],
   "source": [
    "%pylab inline\n",
    "import pandas as pd\n",
    "import pyemma\n",
    "matplotlib.rcParams.update({'font.size': 20})"
   ]
  },
  {
   "cell_type": "markdown",
   "metadata": {
    "collapsed": true
   },
   "source": [
    "# CVs, distance"
   ]
  },
  {
   "cell_type": "code",
   "execution_count": 39,
   "metadata": {
    "collapsed": false
   },
   "outputs": [
    {
     "name": "stderr",
     "output_type": "stream",
     "text": [
      "/home/gerry/gp120/env/lib/python2.7/site-packages/ipykernel/__main__.py:1: ParserWarning: Falling back to the 'python' engine because the 'c' engine does not support regex separators (separators > 1 char and different from '\\s+' are interpreted as regex); you can avoid this warning by specifying engine='python'.\n",
      "  if __name__ == '__main__':\n"
     ]
    }
   ],
   "source": [
    "cvs = pd.read_csv('108/meta_0718_lab108/CVS', sep=r'\\s*', header=None, comment='#')"
   ]
  },
  {
   "cell_type": "code",
   "execution_count": 41,
   "metadata": {
    "collapsed": false
   },
   "outputs": [
    {
     "data": {
      "text/html": [
       "<div>\n",
       "<table border=\"1\" class=\"dataframe\">\n",
       "  <thead>\n",
       "    <tr style=\"text-align: right;\">\n",
       "      <th></th>\n",
       "      <th>time</th>\n",
       "      <th>distance1</th>\n",
       "      <th>distance2</th>\n",
       "      <th>bias</th>\n",
       "      <th>work</th>\n",
       "    </tr>\n",
       "  </thead>\n",
       "  <tbody>\n",
       "    <tr>\n",
       "      <th>0</th>\n",
       "      <td>0.0</td>\n",
       "      <td>2.075519</td>\n",
       "      <td>1.619646</td>\n",
       "      <td>0.000000</td>\n",
       "      <td>0.000000</td>\n",
       "    </tr>\n",
       "    <tr>\n",
       "      <th>1</th>\n",
       "      <td>1.0</td>\n",
       "      <td>2.177365</td>\n",
       "      <td>1.732320</td>\n",
       "      <td>0.000000</td>\n",
       "      <td>0.000000</td>\n",
       "    </tr>\n",
       "    <tr>\n",
       "      <th>2</th>\n",
       "      <td>2.0</td>\n",
       "      <td>2.200224</td>\n",
       "      <td>1.804025</td>\n",
       "      <td>1.130038</td>\n",
       "      <td>1.500000</td>\n",
       "    </tr>\n",
       "    <tr>\n",
       "      <th>3</th>\n",
       "      <td>3.0</td>\n",
       "      <td>2.283586</td>\n",
       "      <td>1.830151</td>\n",
       "      <td>1.502643</td>\n",
       "      <td>2.926362</td>\n",
       "    </tr>\n",
       "    <tr>\n",
       "      <th>4</th>\n",
       "      <td>4.0</td>\n",
       "      <td>2.203514</td>\n",
       "      <td>1.827165</td>\n",
       "      <td>3.330090</td>\n",
       "      <td>4.329245</td>\n",
       "    </tr>\n",
       "  </tbody>\n",
       "</table>\n",
       "</div>"
      ],
      "text/plain": [
       "   time  distance1  distance2      bias      work\n",
       "0   0.0   2.075519   1.619646  0.000000  0.000000\n",
       "1   1.0   2.177365   1.732320  0.000000  0.000000\n",
       "2   2.0   2.200224   1.804025  1.130038  1.500000\n",
       "3   3.0   2.283586   1.830151  1.502643  2.926362\n",
       "4   4.0   2.203514   1.827165  3.330090  4.329245"
      ]
     },
     "execution_count": 41,
     "metadata": {},
     "output_type": "execute_result"
    }
   ],
   "source": [
    "#! FIELDS time d_v12_b d_b_v3 meta.bias meta.work\n",
    "# bias: the instantaneous value of the bias potential\n",
    "# work: accumulator for work\n",
    "cvs.columns = ['time', 'distance1', 'distance2', 'bias', 'work']\n",
    "cvs[:5]"
   ]
  },
  {
   "cell_type": "code",
   "execution_count": 5,
   "metadata": {
    "collapsed": false
   },
   "outputs": [
    {
     "data": {
      "text/plain": [
       "<matplotlib.text.Text at 0x7f22db2a0950>"
      ]
     },
     "execution_count": 5,
     "metadata": {},
     "output_type": "execute_result"
    },
    {
     "data": {
      "image/png": "[encoded data removed]",
      "text/plain": [
       "<matplotlib.figure.Figure at 0x7f2319656510>"
      ]
     },
     "metadata": {},
     "output_type": "display_data"
    }
   ],
   "source": [
    "plot(cvs.distance1)\n",
    "xlabel('frame (steps)')\n",
    "ylabel('distance1 (nm)')"
   ]
  },
  {
   "cell_type": "code",
   "execution_count": 6,
   "metadata": {
    "collapsed": false
   },
   "outputs": [
    {
     "data": {
      "text/plain": [
       "<matplotlib.text.Text at 0x7f22db3076d0>"
      ]
     },
     "execution_count": 6,
     "metadata": {},
     "output_type": "execute_result"
    },
    {
     "data": {
      "image/png": "[encoded data removed]",
      "text/plain": [
       "<matplotlib.figure.Figure at 0x7f22db078c50>"
      ]
     },
     "metadata": {},
     "output_type": "display_data"
    }
   ],
   "source": [
    "plot(cvs.distance2)\n",
    "xlabel('frame (steps)')\n",
    "ylabel('distance2 (nm)')"
   ]
  },
  {
   "cell_type": "code",
   "execution_count": 8,
   "metadata": {
    "collapsed": false
   },
   "outputs": [
    {
     "data": {
      "text/plain": [
       "<matplotlib.text.Text at 0x7f22db22fb90>"
      ]
     },
     "execution_count": 8,
     "metadata": {},
     "output_type": "execute_result"
    },
    {
     "data": {
      "image/png": "[encoded data removed]",
      "text/plain": [
       "<matplotlib.figure.Figure at 0x7f22db2238d0>"
      ]
     },
     "metadata": {},
     "output_type": "display_data"
    }
   ],
   "source": [
    "plot(cvs.bias)\n",
    "xlabel('frame (steps)')\n",
    "ylabel('bias (kj/mol)')"
   ]
  },
  {
   "cell_type": "markdown",
   "metadata": {},
   "source": [
    "# HILL"
   ]
  },
  {
   "cell_type": "code",
   "execution_count": 9,
   "metadata": {
    "collapsed": false
   },
   "outputs": [
    {
     "name": "stderr",
     "output_type": "stream",
     "text": [
      "/home/gerry/gp120/env/lib/python2.7/site-packages/ipykernel/__main__.py:1: ParserWarning: Falling back to the 'python' engine because the 'c' engine does not support regex separators (separators > 1 char and different from '\\s+' are interpreted as regex); you can avoid this warning by specifying engine='python'.\n",
      "  if __name__ == '__main__':\n"
     ]
    }
   ],
   "source": [
    "hills = pd.read_csv('108/meta_0718_lab108/HILLS_CVS', sep=r'\\s*', header=None, comment='#')"
   ]
  },
  {
   "cell_type": "code",
   "execution_count": 18,
   "metadata": {
    "collapsed": false
   },
   "outputs": [
    {
     "data": {
      "text/html": [
       "<div>\n",
       "<table border=\"1\" class=\"dataframe\">\n",
       "  <thead>\n",
       "    <tr style=\"text-align: right;\">\n",
       "      <th></th>\n",
       "      <th>time</th>\n",
       "      <th>distance1</th>\n",
       "      <th>distance2</th>\n",
       "      <th>sigma1</th>\n",
       "      <th>sigma2</th>\n",
       "      <th>height</th>\n",
       "      <th>biasf</th>\n",
       "    </tr>\n",
       "  </thead>\n",
       "  <tbody>\n",
       "    <tr>\n",
       "      <th>0</th>\n",
       "      <td>1</td>\n",
       "      <td>2.177365</td>\n",
       "      <td>1.732320</td>\n",
       "      <td>0.1</td>\n",
       "      <td>0.1</td>\n",
       "      <td>1.666667</td>\n",
       "      <td>10</td>\n",
       "    </tr>\n",
       "    <tr>\n",
       "      <th>1</th>\n",
       "      <td>2</td>\n",
       "      <td>2.200224</td>\n",
       "      <td>1.804025</td>\n",
       "      <td>0.1</td>\n",
       "      <td>0.1</td>\n",
       "      <td>1.584847</td>\n",
       "      <td>10</td>\n",
       "    </tr>\n",
       "    <tr>\n",
       "      <th>2</th>\n",
       "      <td>3</td>\n",
       "      <td>2.283586</td>\n",
       "      <td>1.830151</td>\n",
       "      <td>0.1</td>\n",
       "      <td>0.1</td>\n",
       "      <td>1.558759</td>\n",
       "      <td>10</td>\n",
       "    </tr>\n",
       "    <tr>\n",
       "      <th>3</th>\n",
       "      <td>4</td>\n",
       "      <td>2.203514</td>\n",
       "      <td>1.827165</td>\n",
       "      <td>0.1</td>\n",
       "      <td>0.1</td>\n",
       "      <td>1.436897</td>\n",
       "      <td>10</td>\n",
       "    </tr>\n",
       "    <tr>\n",
       "      <th>4</th>\n",
       "      <td>5</td>\n",
       "      <td>2.122232</td>\n",
       "      <td>1.776587</td>\n",
       "      <td>0.1</td>\n",
       "      <td>0.1</td>\n",
       "      <td>1.436893</td>\n",
       "      <td>10</td>\n",
       "    </tr>\n",
       "  </tbody>\n",
       "</table>\n",
       "</div>"
      ],
      "text/plain": [
       "   time  distance1  distance2  sigma1  sigma2    height  biasf\n",
       "0     1   2.177365   1.732320     0.1     0.1  1.666667     10\n",
       "1     2   2.200224   1.804025     0.1     0.1  1.584847     10\n",
       "2     3   2.283586   1.830151     0.1     0.1  1.558759     10\n",
       "3     4   2.203514   1.827165     0.1     0.1  1.436897     10\n",
       "4     5   2.122232   1.776587     0.1     0.1  1.436893     10"
      ]
     },
     "execution_count": 18,
     "metadata": {},
     "output_type": "execute_result"
    }
   ],
   "source": [
    "#! FIELDS time d_v12_b d_b_v3 sigma_d_v12_b sigma_d_b_v3 height biasf\n",
    "hills.columns = ['time', 'distance1', 'distance2', 'sigma1', 'sigma2', 'height', 'biasf']\n",
    "hills[:5]"
   ]
  },
  {
   "cell_type": "code",
   "execution_count": 11,
   "metadata": {
    "collapsed": false
   },
   "outputs": [
    {
     "data": {
      "text/plain": [
       "<matplotlib.text.Text at 0x7f22db0a3910>"
      ]
     },
     "execution_count": 11,
     "metadata": {},
     "output_type": "execute_result"
    },
    {
     "data": {
      "image/png": "[encoded data removed]",
      "text/plain": [
       "<matplotlib.figure.Figure at 0x7f22db14bf10>"
      ]
     },
     "metadata": {},
     "output_type": "display_data"
    }
   ],
   "source": [
    "plot(hills.height)\n",
    "xlabel('frame (steps)')\n",
    "ylabel('hight')"
   ]
  },
  {
   "cell_type": "markdown",
   "metadata": {},
   "source": [
    "# TRAM"
   ]
  },
  {
   "cell_type": "code",
   "execution_count": 48,
   "metadata": {
    "collapsed": false
   },
   "outputs": [
    {
     "name": "stdout",
     "output_type": "stream",
     "text": [
      "29-08-17 10:28:15 pyemma.coordinates.clustering.kmeans.KmeansClustering[4] INFO     Cluster centers converged after 10 steps.\n"
     ]
    }
   ],
   "source": [
    "import pyemma.coordinates as coor\n",
    "ttrajs = coor.cluster_kmeans(cvs.bias,k=100)"
   ]
  },
  {
   "cell_type": "code",
   "execution_count": 49,
   "metadata": {
    "collapsed": false
   },
   "outputs": [
    {
     "name": "stdout",
     "output_type": "stream",
     "text": [
      "29-08-17 10:28:22 pyemma.coordinates.clustering.kmeans.KmeansClustering[5] INFO     Cluster centers converged after 8 steps.\n"
     ]
    }
   ],
   "source": [
    "dtrajs = coor.cluster_kmeans(hills.height,k=100)"
   ]
  },
  {
   "cell_type": "code",
   "execution_count": 29,
   "metadata": {
    "collapsed": false
   },
   "outputs": [],
   "source": [
    "bias = [np.hstack((cvs.time.reshape(10001,1),cvs.bias.reshape(10001,1)))]"
   ]
  },
  {
   "cell_type": "code",
   "execution_count": 46,
   "metadata": {
    "collapsed": false
   },
   "outputs": [
    {
     "ename": "TypeError",
     "evalue": "Argument dtraj is not a discrete trajectory - only list of integers or int-ndarrays are allowed. Check type of KmeansClustering(fixed_seed=140568611, init_strategy='kmeans++', max_iter=10,\n         metric='euclidean', n_clusters=100, n_jobs=4,\n         oom_strategy='memmap', skip=0, stride=1, tolerance=1e-05)",
     "output_type": "error",
     "traceback": [
      "\u001b[1;31m---------------------------------------------------------------------------\u001b[0m",
      "\u001b[1;31mTypeError\u001b[0m                                 Traceback (most recent call last)",
      "\u001b[1;32m<ipython-input-46-fe8323aceab7>\u001b[0m in \u001b[0;36m<module>\u001b[1;34m()\u001b[0m\n\u001b[0;32m      1\u001b[0m tram = pyemma.thermo.tram(ttrajs=ttrajs, dtrajs=dtrajs, bias=bias, lag=10, \n\u001b[1;32m----> 2\u001b[1;33m                           maxerr=1.E-12, direct_space=True, connectivity='reversible_pathways')\n\u001b[0m",
      "\u001b[1;32m/home/gerry/gp120/env/local/lib/python2.7/site-packages/pyemma/thermo/api.pyc\u001b[0m in \u001b[0;36mtram\u001b[1;34m(ttrajs, dtrajs, bias, lag, unbiased_state, count_mode, connectivity, maxiter, maxerr, save_convergence_info, dt_traj, connectivity_factor, nn, direct_space, N_dtram_accelerations, callback, init, init_maxiter, init_maxerr, equilibrium, overcounting_factor)\u001b[0m\n\u001b[0;32m    662\u001b[0m     \"\"\"\n\u001b[0;32m    663\u001b[0m     \u001b[1;31m# prepare trajectories\u001b[0m\u001b[1;33m\u001b[0m\u001b[1;33m\u001b[0m\u001b[0m\n\u001b[1;32m--> 664\u001b[1;33m     \u001b[0mttrajs\u001b[0m \u001b[1;33m=\u001b[0m \u001b[0m_types\u001b[0m\u001b[1;33m.\u001b[0m\u001b[0mensure_dtraj_list\u001b[0m\u001b[1;33m(\u001b[0m\u001b[0mttrajs\u001b[0m\u001b[1;33m)\u001b[0m\u001b[1;33m\u001b[0m\u001b[0m\n\u001b[0m\u001b[0;32m    665\u001b[0m     \u001b[0mdtrajs\u001b[0m \u001b[1;33m=\u001b[0m \u001b[0m_types\u001b[0m\u001b[1;33m.\u001b[0m\u001b[0mensure_dtraj_list\u001b[0m\u001b[1;33m(\u001b[0m\u001b[0mdtrajs\u001b[0m\u001b[1;33m)\u001b[0m\u001b[1;33m\u001b[0m\u001b[0m\n\u001b[0;32m    666\u001b[0m     \u001b[1;32mif\u001b[0m \u001b[0mlen\u001b[0m\u001b[1;33m(\u001b[0m\u001b[0mttrajs\u001b[0m\u001b[1;33m)\u001b[0m \u001b[1;33m!=\u001b[0m \u001b[0mlen\u001b[0m\u001b[1;33m(\u001b[0m\u001b[0mdtrajs\u001b[0m\u001b[1;33m)\u001b[0m\u001b[1;33m:\u001b[0m\u001b[1;33m\u001b[0m\u001b[0m\n",
      "\u001b[1;32m/home/gerry/gp120/env/local/lib/python2.7/site-packages/pyemma/util/types.pyc\u001b[0m in \u001b[0;36mensure_dtraj_list\u001b[1;34m(dtrajs)\u001b[0m\n\u001b[0;32m    177\u001b[0m             \u001b[1;32mreturn\u001b[0m \u001b[0mdtrajs\u001b[0m\u001b[1;33m\u001b[0m\u001b[0m\n\u001b[0;32m    178\u001b[0m     \u001b[1;32melse\u001b[0m\u001b[1;33m:\u001b[0m\u001b[1;33m\u001b[0m\u001b[0m\n\u001b[1;32m--> 179\u001b[1;33m         \u001b[1;32mreturn\u001b[0m \u001b[1;33m[\u001b[0m\u001b[0mensure_dtraj\u001b[0m\u001b[1;33m(\u001b[0m\u001b[0mdtrajs\u001b[0m\u001b[1;33m)\u001b[0m\u001b[1;33m]\u001b[0m\u001b[1;33m\u001b[0m\u001b[0m\n\u001b[0m\u001b[0;32m    180\u001b[0m \u001b[1;33m\u001b[0m\u001b[0m\n\u001b[0;32m    181\u001b[0m \u001b[1;32mdef\u001b[0m \u001b[0mensure_int_vector\u001b[0m\u001b[1;33m(\u001b[0m\u001b[0mI\u001b[0m\u001b[1;33m,\u001b[0m \u001b[0mrequire_order\u001b[0m \u001b[1;33m=\u001b[0m \u001b[0mFalse\u001b[0m\u001b[1;33m)\u001b[0m\u001b[1;33m:\u001b[0m\u001b[1;33m\u001b[0m\u001b[0m\n",
      "\u001b[1;32m/home/gerry/gp120/env/local/lib/python2.7/site-packages/pyemma/util/types.pyc\u001b[0m in \u001b[0;36mensure_dtraj\u001b[1;34m(dtraj)\u001b[0m\n\u001b[0;32m    162\u001b[0m         raise TypeError('Argument dtraj is not a discrete trajectory - '\n\u001b[0;32m    163\u001b[0m                         \u001b[1;34m'only list of integers or int-ndarrays are allowed. '\u001b[0m\u001b[1;33m\u001b[0m\u001b[0m\n\u001b[1;32m--> 164\u001b[1;33m                         'Check type of %s' % repr(dtraj))\n\u001b[0m\u001b[0;32m    165\u001b[0m \u001b[1;33m\u001b[0m\u001b[0m\n\u001b[0;32m    166\u001b[0m \u001b[1;32mdef\u001b[0m \u001b[0mensure_dtraj_list\u001b[0m\u001b[1;33m(\u001b[0m\u001b[0mdtrajs\u001b[0m\u001b[1;33m)\u001b[0m\u001b[1;33m:\u001b[0m\u001b[1;33m\u001b[0m\u001b[0m\n",
      "\u001b[1;31mTypeError\u001b[0m: Argument dtraj is not a discrete trajectory - only list of integers or int-ndarrays are allowed. Check type of KmeansClustering(fixed_seed=140568611, init_strategy='kmeans++', max_iter=10,\n         metric='euclidean', n_clusters=100, n_jobs=4,\n         oom_strategy='memmap', skip=0, stride=1, tolerance=1e-05)"
     ]
    }
   ],
   "source": [
    "tram = pyemma.thermo.tram(ttrajs=ttrajs, dtrajs=dtrajs, bias=bias, lag=10, \n",
    "                          maxerr=1.E-12, direct_space=True, connectivity='reversible_pathways')"
   ]
  },
  {
   "cell_type": "code",
   "execution_count": null,
   "metadata": {
    "collapsed": true
   },
   "outputs": [],
   "source": []
  }
 ],
 "metadata": {
  "kernelspec": {
   "display_name": "Python 2",
   "language": "python",
   "name": "python2"
  },
  "language_info": {
   "codemirror_mode": {
    "name": "ipython",
    "version": 2
   },
   "file_extension": ".py",
   "mimetype": "text/x-python",
   "name": "python",
   "nbconvert_exporter": "python",
   "pygments_lexer": "ipython2",
   "version": "2.7.6"
  },
  "widgets": {
   "state": {
    "01e7995fa44b4b28afa312f747029222": {
     "views": []
    },
    "063a6350a6ab44b0b65da0b04cfe6d3d": {
     "views": []
    },
    "0bdb96615fb24a95901e052a56bb9586": {
     "views": []
    },
    "0c8aea7349bb496abbfe62b22c152498": {
     "views": []
    },
    "130e75a739384c6986d329a11951931c": {
     "views": []
    },
    "1506bfd7ec5e493693becb84ea88f800": {
     "views": []
    },
    "181d464dfd674f84a4d2df506cb447b0": {
     "views": []
    },
    "22c8890fdaa142bb9862f7c4941c7c56": {
     "views": []
    },
    "265107182bcf493c8a39fe7dce3bc7f2": {
     "views": []
    },
    "27e0f4ddbfb74bf0bed81101f1b51c61": {
     "views": []
    },
    "2c57ab9f2c544a9e85f1c48dc9331dd5": {
     "views": []
    },
    "2df2081a91004a808e2870233dfd8430": {
     "views": []
    },
    "37088857973c4d9aa389c6c1154406d1": {
     "views": []
    },
    "3b4eeb9e39384383b75d0c01c33bf7ff": {
     "views": []
    },
    "3db5f1bcf68349939b5e940ace9eec5e": {
     "views": []
    },
    "4527e2ca30c943929911e7aecb2ff33e": {
     "views": []
    },
    "478820d51e77463fa0918ff480addff9": {
     "views": []
    },
    "4e2672f72d14402eaac885ad4ebda959": {
     "views": []
    },
    "5a778c8089474b5cb8a86f5f1ace0f2d": {
     "views": []
    },
    "5a780535ae7a4830a8ff5d38bfc74d9f": {
     "views": []
    },
    "5a7a5bacc9e4471f8cf2d787fdca3b16": {
     "views": []
    },
    "5dd90b93904847bf92dc041a999f955a": {
     "views": []
    },
    "602028f36d824cd7bf9d1ec91b8ad899": {
     "views": []
    },
    "6ed65e81657649b0af8ff96fe7ea9a85": {
     "views": []
    },
    "70bbe06673ae4ceb9772c99501f7e9de": {
     "views": []
    },
    "7298de3481244f51af00bee998fa6f5d": {
     "views": []
    },
    "7341fabb7c0d40a6986faf224aeb7e86": {
     "views": []
    },
    "737430dbe5cf4fbabdc69c942db23d5a": {
     "views": []
    },
    "747e5a12b1fc42ea8bc879a16b5cb263": {
     "views": []
    },
    "762ade282fcb446ca5c24a6964787f66": {
     "views": []
    },
    "7651e631a2b54ba9860da1101127514c": {
     "views": []
    },
    "778dfdc6f91f4d1e965edeab0db2c262": {
     "views": []
    },
    "78a2743b7a144ba180b159540c4b6955": {
     "views": []
    },
    "7a1e11d4905c4d3c9f210b6c4f351faf": {
     "views": []
    },
    "7bc67b81a1414dd1bdbb97d1a2cabb98": {
     "views": []
    },
    "7cd0bbd03c164ebbb1f13424e49b0d3f": {
     "views": []
    },
    "7f4ded2330104ed9aab7b195ab2d291d": {
     "views": []
    },
    "7fefe95f6db64dafb75f94011e0943ed": {
     "views": []
    },
    "82fe1e5e5bd4431597e3a0b6df939cfa": {
     "views": []
    },
    "9325945e347542478ae6644e4716a75f": {
     "views": []
    },
    "99815e68c8084f62a21eabb5f9348526": {
     "views": []
    },
    "9a3c7c54bc034198847ebafe695f37e8": {
     "views": []
    },
    "9b21d3fe318042399dae7df8ef21ffc2": {
     "views": []
    },
    "9da4129816ca41bc8ddea94eec67ff20": {
     "views": []
    },
    "9da863a50f6b417c8c558fdaa4d81084": {
     "views": []
    },
    "9df419713f214c84ae9a1b4fec88416c": {
     "views": []
    },
    "9ef22cc5d4b24d0c822507a5c5aace42": {
     "views": []
    },
    "a6bb8c5772fc4c908b82f44c2f658a95": {
     "views": []
    },
    "a6c9e60680a7409ba68fafb0f95cae07": {
     "views": []
    },
    "a70912e4b1ac4072a71c190f324c9b02": {
     "views": []
    },
    "adcaccfaca904fe3ac1934d8e3f99106": {
     "views": []
    },
    "ae72f4657b5d452c8ebbcce9b722ae0b": {
     "views": []
    },
    "afa514093ed64495b1e58e95bd9c67b9": {
     "views": []
    },
    "b3c21221a6ff44b9823bfd3ccdce781b": {
     "views": []
    },
    "b9d073771aa444f7ba83bcf5c0f796e4": {
     "views": []
    },
    "bbeb9b1d1c19487e940d85098b544e70": {
     "views": []
    },
    "bc6bff88adf74f71804c13e1d9ecaf4b": {
     "views": []
    },
    "bf3dfba2b32d445eb9e5ab4479c8086e": {
     "views": []
    },
    "bfd1641bbb5842c793c34bd35763d915": {
     "views": []
    },
    "c583fd3bc1b347a7989d3c56c4d21bb6": {
     "views": []
    },
    "cb0d76f98a9b444790a67d38b2b63253": {
     "views": []
    },
    "cc45104c093b4cbd990eadd29d42983a": {
     "views": []
    },
    "cd0ad44c2c764e938738433a00ec75a2": {
     "views": []
    },
    "cf933efcb05d42f9abeaa54ae1fcdbed": {
     "views": []
    },
    "d000b7a4898447528b06dda2a33a1f53": {
     "views": []
    },
    "d0085891158a463598479a77e01975f1": {
     "views": []
    },
    "d1c5049c47524028b4bbd7a4fb95bc46": {
     "views": []
    },
    "d23a1d84c1094d84bee5c23977dda326": {
     "views": []
    },
    "d4186683b23e435890c4e14c9fc17876": {
     "views": []
    },
    "da5894548ee44295af6c33d5bab9716a": {
     "views": []
    },
    "da67d54d62714b7eb58c39cb7a01316f": {
     "views": []
    },
    "dbc53ef7dd5c4e46b5440e0b9a9ff5b8": {
     "views": []
    },
    "e150533d71c0483f9bf5321cdd07db4c": {
     "views": []
    },
    "e1da4011dcc14c77b46f7bbaea1531e5": {
     "views": []
    },
    "e31d691813a9453c9c47f7017198ea04": {
     "views": []
    },
    "e522e746270f472db7f4784bb512e06f": {
     "views": []
    },
    "e562eb7a5e844bc09ce3874109fc1270": {
     "views": []
    },
    "ea36d0199ec641de89f007c88b90a48f": {
     "views": []
    },
    "ef0c72db37f849f794bd1bd2d6a95154": {
     "views": []
    },
    "ef90586dde164759b1801718742ff37d": {
     "views": []
    },
    "f09a18748667464bbe322017a00d98e5": {
     "views": []
    },
    "f1a3afd90c9c4cce9b9a2027988eb531": {
     "views": []
    },
    "f5b4794afd4c4e5184b1ebca25dc1523": {
     "views": []
    },
    "f90b53bd03ea4b7c95823d3eec1aa7f9": {
     "views": []
    },
    "fb15f7ac7fb7414f8d900ab1089b2e43": {
     "views": []
    }
   },
   "version": "1.1.2"
  }
 },
 "nbformat": 4,
 "nbformat_minor": 0
}
